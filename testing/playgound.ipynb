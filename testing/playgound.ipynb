{
 "cells": [
  {
   "cell_type": "code",
   "execution_count": 1,
   "metadata": {},
   "outputs": [],
   "source": [
    "import json\n",
    "import re\n",
    "import pandas as pd\n",
    "from typing import Dict, List, Tuple, Union\n",
    "from nbconvert.filters import ipython2python"
   ]
  },
  {
   "cell_type": "code",
   "execution_count": 2,
   "metadata": {},
   "outputs": [
    {
     "data": {
      "text/html": [
       "<div>\n",
       "<style scoped>\n",
       "    .dataframe tbody tr th:only-of-type {\n",
       "        vertical-align: middle;\n",
       "    }\n",
       "\n",
       "    .dataframe tbody tr th {\n",
       "        vertical-align: top;\n",
       "    }\n",
       "\n",
       "    .dataframe thead th {\n",
       "        text-align: right;\n",
       "    }\n",
       "</style>\n",
       "<table border=\"1\" class=\"dataframe\">\n",
       "  <thead>\n",
       "    <tr style=\"text-align: right;\">\n",
       "      <th></th>\n",
       "      <th>cell_type</th>\n",
       "      <th>metadata</th>\n",
       "      <th>source</th>\n",
       "      <th>execution_count</th>\n",
       "      <th>outputs</th>\n",
       "    </tr>\n",
       "  </thead>\n",
       "  <tbody>\n",
       "    <tr>\n",
       "      <td>27</td>\n",
       "      <td>code</td>\n",
       "      <td>{'tags': ['raises-exception', 'flake8-noqa-cel...</td>\n",
       "      <td>[import not_a_valid_module]</td>\n",
       "      <td>8.0</td>\n",
       "      <td>[{'ename': 'ModuleNotFoundError', 'evalue': 'N...</td>\n",
       "    </tr>\n",
       "    <tr>\n",
       "      <td>28</td>\n",
       "      <td>code</td>\n",
       "      <td>{'tags': ['flake8-noqa-cell-E402-F401', 'flake...</td>\n",
       "      <td>[for i in range(2):\\n,     print(i)]</td>\n",
       "      <td>9.0</td>\n",
       "      <td>[{'name': 'stdout', 'output_type': 'stream', '...</td>\n",
       "    </tr>\n",
       "    <tr>\n",
       "      <td>29</td>\n",
       "      <td>code</td>\n",
       "      <td>{}</td>\n",
       "      <td>[%%python\\n, print(\"foo\")]</td>\n",
       "      <td>10.0</td>\n",
       "      <td>[{'name': 'stdout', 'output_type': 'stream', '...</td>\n",
       "    </tr>\n",
       "    <tr>\n",
       "      <td>30</td>\n",
       "      <td>code</td>\n",
       "      <td>{'tags': ['flake8-noqa-cell']}</td>\n",
       "      <td>[%ls\\n, import __hello__]</td>\n",
       "      <td>11.0</td>\n",
       "      <td>[{'name': 'stdout', 'output_type': 'stream', '...</td>\n",
       "    </tr>\n",
       "    <tr>\n",
       "      <td>31</td>\n",
       "      <td>code</td>\n",
       "      <td>{}</td>\n",
       "      <td>[]</td>\n",
       "      <td>NaN</td>\n",
       "      <td>[]</td>\n",
       "    </tr>\n",
       "  </tbody>\n",
       "</table>\n",
       "</div>"
      ],
      "text/plain": [
       "   cell_type                                           metadata  \\\n",
       "27      code  {'tags': ['raises-exception', 'flake8-noqa-cel...   \n",
       "28      code  {'tags': ['flake8-noqa-cell-E402-F401', 'flake...   \n",
       "29      code                                                 {}   \n",
       "30      code                     {'tags': ['flake8-noqa-cell']}   \n",
       "31      code                                                 {}   \n",
       "\n",
       "                                  source  execution_count  \\\n",
       "27           [import not_a_valid_module]              8.0   \n",
       "28  [for i in range(2):\\n,     print(i)]              9.0   \n",
       "29            [%%python\\n, print(\"foo\")]             10.0   \n",
       "30             [%ls\\n, import __hello__]             11.0   \n",
       "31                                    []              NaN   \n",
       "\n",
       "                                              outputs  \n",
       "27  [{'ename': 'ModuleNotFoundError', 'evalue': 'N...  \n",
       "28  [{'name': 'stdout', 'output_type': 'stream', '...  \n",
       "29  [{'name': 'stdout', 'output_type': 'stream', '...  \n",
       "30  [{'name': 'stdout', 'output_type': 'stream', '...  \n",
       "31                                                 []  "
      ]
     },
     "execution_count": 2,
     "metadata": {},
     "output_type": "execute_result"
    }
   ],
   "source": [
    "with open(\"1_Using-Jupyter-Lab.ipynb\") as test_notebook_file:\n",
    "    test_notebook = json.load(test_notebook_file)[\"cells\"]\n",
    "pd.DataFrame(test_notebook).tail()"
   ]
  },
  {
   "cell_type": "markdown",
   "metadata": {},
   "source": [
    "## Input Notebook"
   ]
  },
  {
   "cell_type": "code",
   "execution_count": 3,
   "metadata": {},
   "outputs": [
    {
     "data": {
      "text/html": [
       "<div>\n",
       "<style scoped>\n",
       "    .dataframe tbody tr th:only-of-type {\n",
       "        vertical-align: middle;\n",
       "    }\n",
       "\n",
       "    .dataframe tbody tr th {\n",
       "        vertical-align: top;\n",
       "    }\n",
       "\n",
       "    .dataframe thead th {\n",
       "        text-align: right;\n",
       "    }\n",
       "</style>\n",
       "<table border=\"1\" class=\"dataframe\">\n",
       "  <thead>\n",
       "    <tr style=\"text-align: right;\">\n",
       "      <th></th>\n",
       "      <th>cell_type</th>\n",
       "      <th>execution_count</th>\n",
       "      <th>metadata</th>\n",
       "      <th>outputs</th>\n",
       "      <th>source</th>\n",
       "    </tr>\n",
       "  </thead>\n",
       "  <tbody>\n",
       "    <tr>\n",
       "      <td>0</td>\n",
       "      <td>code</td>\n",
       "      <td>1</td>\n",
       "      <td>{'tags': ['nbval-ignore-output']}</td>\n",
       "      <td>[{'data': {'application/json': {'cell': {'!': ...</td>\n",
       "      <td>[get_ipython().run_line_magic('lsmagic', '')\\n]</td>\n",
       "    </tr>\n",
       "    <tr>\n",
       "      <td>1</td>\n",
       "      <td>code</td>\n",
       "      <td>2</td>\n",
       "      <td>{'tags': ['nbval-ignore-output', 'flake8-noqa-...</td>\n",
       "      <td>[{'name': 'stdout', 'output_type': 'stream', '...</td>\n",
       "      <td>[get_ipython().run_cell_magic('bash', '', '')\\...</td>\n",
       "    </tr>\n",
       "    <tr>\n",
       "      <td>2</td>\n",
       "      <td>code</td>\n",
       "      <td>3</td>\n",
       "      <td>{'tags': ['nbval-ignore-output']}</td>\n",
       "      <td>[{'name': 'stdout', 'output_type': 'stream', '...</td>\n",
       "      <td>[get_ipython().system('ls -la')\\n]</td>\n",
       "    </tr>\n",
       "    <tr>\n",
       "      <td>3</td>\n",
       "      <td>code</td>\n",
       "      <td>4</td>\n",
       "      <td>{'tags': ['nbval-ignore-output', 'flake8-noqa-...</td>\n",
       "      <td>[{'data': {'text/plain': ['\\x1b[1;31mDocstring...</td>\n",
       "      <td>[get_ipython().run_line_magic('pinfo', '%%bash...</td>\n",
       "    </tr>\n",
       "    <tr>\n",
       "      <td>4</td>\n",
       "      <td>code</td>\n",
       "      <td>5</td>\n",
       "      <td>{'tags': ['nbval-ignore-output', 'flake8-noqa-...</td>\n",
       "      <td>[{'data': {'text/plain': ['\\x1b[1;31mDocstring...</td>\n",
       "      <td>[get_ipython().run_line_magic('pinfo', '%%bash...</td>\n",
       "    </tr>\n",
       "    <tr>\n",
       "      <td>5</td>\n",
       "      <td>code</td>\n",
       "      <td>6</td>\n",
       "      <td>{'tags': ['flake8-noqa-cell']}</td>\n",
       "      <td>[{'data': {'text/plain': ['\\x1b[1;31mInit sign...</td>\n",
       "      <td>[get_ipython().run_line_magic('pinfo', 'map')\\n]</td>\n",
       "    </tr>\n",
       "    <tr>\n",
       "      <td>6</td>\n",
       "      <td>code</td>\n",
       "      <td>7</td>\n",
       "      <td>{'tags': ['flake8-noqa-cell']}</td>\n",
       "      <td>[{'data': {'text/plain': ['\\x1b[1;31mInit sign...</td>\n",
       "      <td>[get_ipython().run_line_magic('pinfo', 'map')\\n]</td>\n",
       "    </tr>\n",
       "    <tr>\n",
       "      <td>7</td>\n",
       "      <td>code</td>\n",
       "      <td>8</td>\n",
       "      <td>{'tags': ['raises-exception', 'flake8-noqa-cel...</td>\n",
       "      <td>[{'ename': 'ModuleNotFoundError', 'evalue': 'N...</td>\n",
       "      <td>[import not_a_valid_module\\n]</td>\n",
       "    </tr>\n",
       "    <tr>\n",
       "      <td>8</td>\n",
       "      <td>code</td>\n",
       "      <td>9</td>\n",
       "      <td>{'tags': ['flake8-noqa-cell-E402-F401', 'flake...</td>\n",
       "      <td>[{'name': 'stdout', 'output_type': 'stream', '...</td>\n",
       "      <td>[for i in range(2):\\n, print(i)\\n]</td>\n",
       "    </tr>\n",
       "    <tr>\n",
       "      <td>9</td>\n",
       "      <td>code</td>\n",
       "      <td>10</td>\n",
       "      <td>{}</td>\n",
       "      <td>[{'name': 'stdout', 'output_type': 'stream', '...</td>\n",
       "      <td>[get_ipython().run_cell_magic('python', '', ''...</td>\n",
       "    </tr>\n",
       "    <tr>\n",
       "      <td>10</td>\n",
       "      <td>code</td>\n",
       "      <td>11</td>\n",
       "      <td>{'tags': ['flake8-noqa-cell']}</td>\n",
       "      <td>[{'name': 'stdout', 'output_type': 'stream', '...</td>\n",
       "      <td>[get_ipython().run_line_magic('ls', '')\\n, imp...</td>\n",
       "    </tr>\n",
       "  </tbody>\n",
       "</table>\n",
       "</div>"
      ],
      "text/plain": [
       "   cell_type  execution_count  \\\n",
       "0       code                1   \n",
       "1       code                2   \n",
       "2       code                3   \n",
       "3       code                4   \n",
       "4       code                5   \n",
       "5       code                6   \n",
       "6       code                7   \n",
       "7       code                8   \n",
       "8       code                9   \n",
       "9       code               10   \n",
       "10      code               11   \n",
       "\n",
       "                                             metadata  \\\n",
       "0                   {'tags': ['nbval-ignore-output']}   \n",
       "1   {'tags': ['nbval-ignore-output', 'flake8-noqa-...   \n",
       "2                   {'tags': ['nbval-ignore-output']}   \n",
       "3   {'tags': ['nbval-ignore-output', 'flake8-noqa-...   \n",
       "4   {'tags': ['nbval-ignore-output', 'flake8-noqa-...   \n",
       "5                      {'tags': ['flake8-noqa-cell']}   \n",
       "6                      {'tags': ['flake8-noqa-cell']}   \n",
       "7   {'tags': ['raises-exception', 'flake8-noqa-cel...   \n",
       "8   {'tags': ['flake8-noqa-cell-E402-F401', 'flake...   \n",
       "9                                                  {}   \n",
       "10                     {'tags': ['flake8-noqa-cell']}   \n",
       "\n",
       "                                              outputs  \\\n",
       "0   [{'data': {'application/json': {'cell': {'!': ...   \n",
       "1   [{'name': 'stdout', 'output_type': 'stream', '...   \n",
       "2   [{'name': 'stdout', 'output_type': 'stream', '...   \n",
       "3   [{'data': {'text/plain': ['\\x1b[1;31mDocstring...   \n",
       "4   [{'data': {'text/plain': ['\\x1b[1;31mDocstring...   \n",
       "5   [{'data': {'text/plain': ['\\x1b[1;31mInit sign...   \n",
       "6   [{'data': {'text/plain': ['\\x1b[1;31mInit sign...   \n",
       "7   [{'ename': 'ModuleNotFoundError', 'evalue': 'N...   \n",
       "8   [{'name': 'stdout', 'output_type': 'stream', '...   \n",
       "9   [{'name': 'stdout', 'output_type': 'stream', '...   \n",
       "10  [{'name': 'stdout', 'output_type': 'stream', '...   \n",
       "\n",
       "                                               source  \n",
       "0     [get_ipython().run_line_magic('lsmagic', '')\\n]  \n",
       "1   [get_ipython().run_cell_magic('bash', '', '')\\...  \n",
       "2                  [get_ipython().system('ls -la')\\n]  \n",
       "3   [get_ipython().run_line_magic('pinfo', '%%bash...  \n",
       "4   [get_ipython().run_line_magic('pinfo', '%%bash...  \n",
       "5    [get_ipython().run_line_magic('pinfo', 'map')\\n]  \n",
       "6    [get_ipython().run_line_magic('pinfo', 'map')\\n]  \n",
       "7                       [import not_a_valid_module\\n]  \n",
       "8                  [for i in range(2):\\n, print(i)\\n]  \n",
       "9   [get_ipython().run_cell_magic('python', '', ''...  \n",
       "10  [get_ipython().run_line_magic('ls', '')\\n, imp...  "
      ]
     },
     "execution_count": 3,
     "metadata": {},
     "output_type": "execute_result"
    }
   ],
   "source": [
    "from flake8_nb.parsers.notebook_parsers import get_notebook_code_cells\n",
    "    \n",
    "uses_get_ipython, test_notebook = get_notebook_code_cells(\"1_Using-Jupyter-Lab.ipynb\")\n",
    "pd.DataFrame(test_notebook)"
   ]
  },
  {
   "cell_type": "code",
   "execution_count": 4,
   "metadata": {},
   "outputs": [
    {
     "data": {
      "text/plain": [
       "'1_Using-Jupyter-Lab.ipynb#In[7]'"
      ]
     },
     "execution_count": 4,
     "metadata": {},
     "output_type": "execute_result"
    }
   ],
   "source": [
    "def generate_input_name(notebook_path, input_nr):\n",
    "    return f\"{notebook_path}#In[{input_nr}]\"\n",
    "generate_input_name(\"1_Using-Jupyter-Lab.ipynb\", 7)"
   ]
  },
  {
   "cell_type": "code",
   "execution_count": 5,
   "metadata": {},
   "outputs": [
    {
     "data": {
      "text/plain": [
       "['nbval-ignore-output', 'flake8-noqa-cell']"
      ]
     },
     "execution_count": 5,
     "metadata": {},
     "output_type": "execute_result"
    }
   ],
   "source": [
    "test_notebook[1][\"metadata\"].get(\"tags\", None)"
   ]
  },
  {
   "cell_type": "markdown",
   "metadata": {},
   "source": [
    "## Flake8 tags to use\n",
    "\n",
    "### cell tags\n",
    "Apply rules to all lines of the cell\n",
    "\n",
    "pattern: ``flake8-noqa-cell-<rule1>-<rule2>``\n",
    "    \n",
    "example: flake8-noqa-cell-E402-F401\n",
    "\n",
    "#### ignore tag\n",
    "Whole cell will be ignored\n",
    "\n",
    "pattern: ``flake8-noqa-cell``\n",
    "\n",
    "### line tags\n",
    "Apply rules to line of the cell, with line_nr \n",
    "\n",
    "pattern: ``flake8-noqa-line-<line_nr>-<rule1>-<rule2>``\n",
    "    \n",
    "example: flake8-noqa-line-1-E402-F401\n",
    "\n",
    "#### ignore tag\n",
    "Line will be ignored\n",
    "\n",
    "pattern: ``flake8-noqa-line-<line_nr>``\n",
    "\n",
    "example: flake8-noqa-line-1\n",
    "\n",
    "### Regex\n",
    "``` \n",
    "r\"^flake8-noqa-(cell-(?P<cell_rules>(\\w+\\d+-?)+)\"\n",
    "r\"|line-(?P<line_nr>\\d+)-(?P<line_rules>(\\w+\\d+-?)+))$\"\n",
    "r\"|^(?P<ignore_cell>flake8-noqa-cell)$\"\n",
    "r\"|^flake8-noqa-line-(?P<ignore_line_nr>\\d+)$\"\n",
    "```\n",
    "\n",
    "testcase:\n",
    "```\n",
    "flake8-noqa-cell-E402-F401\n",
    "flake8-noqa-cell\n",
    "flake8-noqa-line-1-E402-F401\n",
    "flake8-noqa-line-1\n",
    "flake8-noqa-line-foo-E402-F401\n",
    "```"
   ]
  },
  {
   "cell_type": "code",
   "execution_count": 6,
   "metadata": {},
   "outputs": [
    {
     "data": {
      "text/plain": [
       "[]"
      ]
     },
     "execution_count": 6,
     "metadata": {},
     "output_type": "execute_result"
    }
   ],
   "source": [
    "from flake8_nb.parsers.cell_parsers import extract_flake8_tags\n",
    "extract_flake8_tags(test_notebook[0])"
   ]
  },
  {
   "cell_type": "code",
   "execution_count": 7,
   "metadata": {},
   "outputs": [
    {
     "data": {
      "text/plain": [
       "['flake8-noqa-cell']"
      ]
     },
     "execution_count": 7,
     "metadata": {},
     "output_type": "execute_result"
    }
   ],
   "source": [
    "extract_flake8_tags(test_notebook[1])"
   ]
  },
  {
   "cell_type": "code",
   "execution_count": 8,
   "metadata": {},
   "outputs": [
    {
     "name": "stdout",
     "output_type": "stream",
     "text": [
      "matching: \"flake8-noqa-cell-E402-F401\"\n",
      "cell_rules E402-F401\n",
      "line_nr None\n",
      "line_rules None\n",
      "matching: \"flake8-noqa-line-1-E402-F401\"\n",
      "cell_rules None\n",
      "line_nr 1\n",
      "line_rules E402-F401\n"
     ]
    }
   ],
   "source": [
    "flake8_tag_pattern = (\n",
    "    r\"^flake8-noqa-(cell-(?P<cell_rules>(\\w+\\d+-?)+)\"\n",
    "    r\"|line-(?P<line_nr>\\d+)-(?P<line_rules>(\\w+\\d+-?)+))$\"\n",
    "    r\"|^(?P<ignore_cell>flake8-noqa-cell)$\"\n",
    "    r\"|^flake8-noqa-line-(?P<ignore_line_nr>\\d+)$\")\n",
    "flake8_tag_regex = re.compile(flake8_tag_pattern)\n",
    "match1 = re.match(flake8_tag_regex, 'flake8-noqa-cell-E402-F401')\n",
    "print('matching: \"flake8-noqa-cell-E402-F401\"')\n",
    "print(\"cell_rules\", match1.group(\"cell_rules\"))\n",
    "print(\"line_nr\", match1.group(\"line_nr\"))\n",
    "print(\"line_rules\", match1.group(\"line_rules\"))\n",
    "match2 = re.match(flake8_tag_regex, 'flake8-noqa-line-1-E402-F401')\n",
    "print('matching: \"flake8-noqa-line-1-E402-F401\"')\n",
    "print(\"cell_rules\", match2.group(\"cell_rules\"))\n",
    "print(\"line_nr\", match2.group(\"line_nr\"))\n",
    "print(\"line_rules\", match2.group(\"line_rules\"))"
   ]
  },
  {
   "cell_type": "markdown",
   "metadata": {},
   "source": [
    "## Tags to rules-dict"
   ]
  },
  {
   "cell_type": "code",
   "execution_count": 9,
   "metadata": {},
   "outputs": [
    {
     "name": "stdout",
     "output_type": "stream",
     "text": [
      "{'cell': ['E402', 'F401']}\n",
      "{'cell': ['noqa']}\n",
      "{'1': ['E402', 'F401']}\n",
      "{'1': ['noqa']}\n",
      "{}\n"
     ]
    },
    {
     "name": "stderr",
     "output_type": "stream",
     "text": [
      "d:\\git\\flake8-nb\\flake8_nb\\parsers\\cell_parsers.py:43: InvalidFlake8TagWarning: flake8-noqa-line/cell-tags should be of form 'flake8-noqa-cell-<rule1>-<rule2>'|'flake8-noqa-cell'/'flake8-noqa-line-<line_nr>-<rule1>-<rule2>'|'flake8-noqa-line-<rule1>', you used: 'flake8-noqa-line-foo-E402-F401'\n",
      "  InvalidFlake8TagWarning,\n"
     ]
    }
   ],
   "source": [
    "from flake8_nb.parsers.cell_parsers import flake8_tag_to_rules_dict\n",
    "\n",
    "print(flake8_tag_to_rules_dict('flake8-noqa-cell-E402-F401'))\n",
    "print(flake8_tag_to_rules_dict('flake8-noqa-cell'))\n",
    "print(flake8_tag_to_rules_dict('flake8-noqa-line-1-E402-F401'))\n",
    "print(flake8_tag_to_rules_dict('flake8-noqa-line-1'))\n",
    "print(flake8_tag_to_rules_dict('flake8-noqa-line-foo-E402-F401'))"
   ]
  },
  {
   "cell_type": "markdown",
   "metadata": {},
   "source": [
    "## Total rules dict"
   ]
  },
  {
   "cell_type": "code",
   "execution_count": 10,
   "metadata": {},
   "outputs": [],
   "source": [
    "from flake8_nb.parsers.cell_parsers import get_flake8_rules_dict"
   ]
  },
  {
   "cell_type": "code",
   "execution_count": 11,
   "metadata": {},
   "outputs": [
    {
     "data": {
      "text/plain": [
       "{'cell': ['E402', 'F401']}"
      ]
     },
     "execution_count": 11,
     "metadata": {},
     "output_type": "execute_result"
    }
   ],
   "source": [
    "get_flake8_rules_dict(test_notebook[7])"
   ]
  },
  {
   "cell_type": "code",
   "execution_count": 12,
   "metadata": {},
   "outputs": [
    {
     "data": {
      "text/plain": [
       "{'cell': ['noqa'], '1': ['E402', 'W391', 'F401']}"
      ]
     },
     "execution_count": 12,
     "metadata": {},
     "output_type": "execute_result"
    }
   ],
   "source": [
    "get_flake8_rules_dict(test_notebook[8])"
   ]
  },
  {
   "cell_type": "code",
   "execution_count": 13,
   "metadata": {},
   "outputs": [
    {
     "data": {
      "text/plain": [
       "\"get_ipython().run_cell_magic('bash', '', 'echo help\\\\necho help2')\\n\""
      ]
     },
     "execution_count": 13,
     "metadata": {},
     "output_type": "execute_result"
    }
   ],
   "source": [
    "from nbconvert.filters import ipython2python\n",
    "ipython2python(\"%%bash\\necho help\\necho help2\")"
   ]
  },
  {
   "cell_type": "code",
   "execution_count": 14,
   "metadata": {},
   "outputs": [
    {
     "data": {
      "text/plain": [
       "\"get_ipython().run_cell_magic('bash', '', 'echo help\\\\necho help2')\\n\""
      ]
     },
     "execution_count": 14,
     "metadata": {},
     "output_type": "execute_result"
    }
   ],
   "source": [
    "ipython2python(\"%%bash\\necho help\\necho help2\\n\")"
   ]
  },
  {
   "cell_type": "code",
   "execution_count": 15,
   "metadata": {},
   "outputs": [],
   "source": [
    "from flake8_nb.parsers.cell_parsers import generate_rules_list"
   ]
  },
  {
   "cell_type": "code",
   "execution_count": 16,
   "metadata": {},
   "outputs": [
    {
     "data": {
      "text/plain": [
       "['noqa']"
      ]
     },
     "execution_count": 16,
     "metadata": {},
     "output_type": "execute_result"
    }
   ],
   "source": [
    "generate_rules_list(1, {'cell': ['noqa'], '1': ['E402', 'F401', 'W391']})"
   ]
  },
  {
   "cell_type": "code",
   "execution_count": 17,
   "metadata": {},
   "outputs": [
    {
     "data": {
      "text/plain": [
       "['noqa']"
      ]
     },
     "execution_count": 17,
     "metadata": {},
     "output_type": "execute_result"
    }
   ],
   "source": [
    "generate_rules_list(2, {'cell': ['noqa'], '1': ['E402', 'F401', 'W391']})"
   ]
  },
  {
   "cell_type": "code",
   "execution_count": 18,
   "metadata": {},
   "outputs": [
    {
     "data": {
      "text/plain": [
       "[]"
      ]
     },
     "execution_count": 18,
     "metadata": {},
     "output_type": "execute_result"
    }
   ],
   "source": [
    "generate_rules_list(2, {'1': ['E402', 'F401', 'W391']})"
   ]
  },
  {
   "cell_type": "markdown",
   "metadata": {},
   "source": [
    "## check if noqa already exists\n",
    "\n",
    "pattern: \n",
    "```\n",
    "r\"^.+?\\s*[#]\\s*noqa\\s*[:]\"\n",
    "r\"(?P<flake8_noqa_rules>(\\s*\\w+\\d+[,]?\\s*)+)(\\n)?$\"\n",
    "r\"|^.+?\\s*(?P<has_flake8_noqa_all>[#]\\s*noqa\\s*[:]?\\s*)$\"\n",
    "```\n",
    "testcase:\n",
    "```python\n",
    "foo  # noqa: E402, Fasd401\n",
    "foo  # noqa : E402, Fasd401 \n",
    "\"test  # noqa: E402, Fasd401\"\n",
    "```"
   ]
  },
  {
   "cell_type": "code",
   "execution_count": 19,
   "metadata": {},
   "outputs": [],
   "source": [
    "FLAKE8_NOQA_INLINE_PATTERN = re.compile(\n",
    "    r\"^.+?\\s*[#]\\s*noqa\\s*[:]\"\n",
    "    r\"(?P<flake8_noqa_rules>(\\s*\\w+\\d+[,]?\\s*)+)(\\n)?$\"\n",
    "    r\"|^.+?\\s*(?P<has_flake8_noqa_all>[#]\\s*noqa\\s*[:]?\\s*)(\\n)?$\",\n",
    "    re.DOTALL,\n",
    ")"
   ]
  },
  {
   "cell_type": "code",
   "execution_count": 20,
   "metadata": {},
   "outputs": [],
   "source": [
    "from flake8_nb.parsers.cell_parsers import get_inline_flake8_noqa"
   ]
  },
  {
   "cell_type": "code",
   "execution_count": 21,
   "metadata": {},
   "outputs": [
    {
     "name": "stdout",
     "output_type": "stream",
     "text": [
      "['E402', 'Fasd401']\n",
      "['E402', 'Fasd401']\n",
      "['noqa']\n",
      "['noqa']\n",
      "[]\n"
     ]
    }
   ],
   "source": [
    "print(get_inline_flake8_noqa(\"foo  # noqa: E402, Fasd401\"))\n",
    "print(get_inline_flake8_noqa(\"foo  # noqa : E402, Fasd401 \\n\"))\n",
    "print(get_inline_flake8_noqa(\"foo  # noqa\"))\n",
    "print(get_inline_flake8_noqa(\"foo  # noqa \\n\"))\n",
    "print(get_inline_flake8_noqa('\"foo  # noqa : E402, Fasd401\"'))"
   ]
  },
  {
   "cell_type": "code",
   "execution_count": 22,
   "metadata": {},
   "outputs": [
    {
     "name": "stdout",
     "output_type": "stream",
     "text": [
      "3.37 µs ± 51.2 ns per loop (mean ± std. dev. of 7 runs, 100000 loops each)\n"
     ]
    }
   ],
   "source": [
    "%%timeit\n",
    "get_inline_flake8_noqa(\"foo  # noqa: E402, Fasd401\")"
   ]
  },
  {
   "cell_type": "markdown",
   "metadata": {},
   "source": [
    "## update flake8 noqa"
   ]
  },
  {
   "cell_type": "code",
   "execution_count": 23,
   "metadata": {},
   "outputs": [],
   "source": [
    "from flake8_nb.parsers.cell_parsers import update_inline_flake8_noqa"
   ]
  },
  {
   "cell_type": "code",
   "execution_count": 24,
   "metadata": {},
   "outputs": [
    {
     "name": "stdout",
     "output_type": "stream",
     "text": [
      "foo  # noqa: \n",
      "\n",
      "foo  # noqa: E402, Fasd401, bar\n",
      "\n",
      "foo  # noqa: \n",
      "\n",
      "foo  # noqa: \n",
      "\n",
      "\"foo  # noqa : E402, Fasd401\"  # noqa: E402, bar\n",
      "\n",
      "\"foo  # noqa : E402, Fasd401\"\n",
      "\n"
     ]
    }
   ],
   "source": [
    "print(update_inline_flake8_noqa(\"foo  # noqa: E402, Fasd401\", ['noqa']))\n",
    "print(update_inline_flake8_noqa(\"foo  # noqa : E402, Fasd401 \\n\", ['bar', \"E402\"]))\n",
    "print(update_inline_flake8_noqa(\"foo  # noqa\", ['bar', \"E402\"]))\n",
    "print(update_inline_flake8_noqa(\"foo  # noqa \\n\", ['bar', \"E402\"]))\n",
    "print(update_inline_flake8_noqa('\"foo  # noqa : E402, Fasd401\"', ['bar', \"E402\"]))\n",
    "print(update_inline_flake8_noqa('\"foo  # noqa : E402, Fasd401\"', []))"
   ]
  },
  {
   "cell_type": "markdown",
   "metadata": {},
   "source": [
    "### Implement flake8 \n",
    "The formatter formats and object of type `flake8.style_guide.Violation` which has following attributes of interest which might need to be overwritten [`filename`, `line_number`, `physical_line`].\n"
   ]
  },
  {
   "cell_type": "code",
   "execution_count": 25,
   "metadata": {},
   "outputs": [
    {
     "data": {
      "text/plain": [
       "['__add__',\n",
       " '__class__',\n",
       " '__contains__',\n",
       " '__delattr__',\n",
       " '__dict__',\n",
       " '__dir__',\n",
       " '__doc__',\n",
       " '__eq__',\n",
       " '__format__',\n",
       " '__ge__',\n",
       " '__getattribute__',\n",
       " '__getitem__',\n",
       " '__getnewargs__',\n",
       " '__gt__',\n",
       " '__hash__',\n",
       " '__init__',\n",
       " '__init_subclass__',\n",
       " '__iter__',\n",
       " '__le__',\n",
       " '__len__',\n",
       " '__lt__',\n",
       " '__module__',\n",
       " '__mul__',\n",
       " '__ne__',\n",
       " '__new__',\n",
       " '__reduce__',\n",
       " '__reduce_ex__',\n",
       " '__repr__',\n",
       " '__rmul__',\n",
       " '__setattr__',\n",
       " '__sizeof__',\n",
       " '__slots__',\n",
       " '__str__',\n",
       " '__subclasshook__',\n",
       " '_asdict',\n",
       " '_fields',\n",
       " '_fields_defaults',\n",
       " '_make',\n",
       " '_replace',\n",
       " 'code',\n",
       " 'column_number',\n",
       " 'count',\n",
       " 'filename',\n",
       " 'index',\n",
       " 'is_in',\n",
       " 'is_inline_ignored',\n",
       " 'line_number',\n",
       " 'physical_line',\n",
       " 'text']"
      ]
     },
     "execution_count": 25,
     "metadata": {},
     "output_type": "execute_result"
    }
   ],
   "source": [
    "import flake8\n",
    "from flake8.style_guide import Violation\n",
    "dir(Violation)"
   ]
  },
  {
   "cell_type": "code",
   "execution_count": 27,
   "metadata": {},
   "outputs": [
    {
     "name": "stdout",
     "output_type": "stream",
     "text": [
      "C:\\Users\\dafuq\\AppData\\Local\\Temp\n"
     ]
    }
   ],
   "source": [
    "print(\"C:\\\\Users\\\\dafuq\\\\AppData\\\\Local\\\\Temp\")"
   ]
  },
  {
   "cell_type": "code",
   "execution_count": 27,
   "metadata": {},
   "outputs": [
    {
     "data": {
      "text/plain": [
       "zip"
      ]
     },
     "execution_count": 27,
     "metadata": {},
     "output_type": "execute_result"
    }
   ],
   "source": [
    "type(zip([1],[2]))"
   ]
  },
  {
   "cell_type": "code",
   "execution_count": null,
   "metadata": {},
   "outputs": [],
   "source": []
  }
 ],
 "metadata": {
  "kernelspec": {
   "display_name": "Python 3",
   "language": "python",
   "name": "python3"
  },
  "language_info": {
   "codemirror_mode": {
    "name": "ipython",
    "version": 3
   },
   "file_extension": ".py",
   "mimetype": "text/x-python",
   "name": "python",
   "nbconvert_exporter": "python",
   "pygments_lexer": "ipython3",
   "version": "3.7.3"
  }
 },
 "nbformat": 4,
 "nbformat_minor": 4
}
