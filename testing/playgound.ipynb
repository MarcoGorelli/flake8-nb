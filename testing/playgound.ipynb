{
 "cells": [
  {
   "cell_type": "code",
   "execution_count": 1,
   "metadata": {},
   "outputs": [],
   "source": [
    "import json\n",
    "import re\n",
    "import pandas as pd\n",
    "from typing import Dict, List, Tuple, Union\n",
    "from nbconvert.filters import ipython2python"
   ]
  },
  {
   "cell_type": "code",
   "execution_count": 2,
   "metadata": {},
   "outputs": [
    {
     "data": {
      "text/html": [
       "<div>\n",
       "<style scoped>\n",
       "    .dataframe tbody tr th:only-of-type {\n",
       "        vertical-align: middle;\n",
       "    }\n",
       "\n",
       "    .dataframe tbody tr th {\n",
       "        vertical-align: top;\n",
       "    }\n",
       "\n",
       "    .dataframe thead th {\n",
       "        text-align: right;\n",
       "    }\n",
       "</style>\n",
       "<table border=\"1\" class=\"dataframe\">\n",
       "  <thead>\n",
       "    <tr style=\"text-align: right;\">\n",
       "      <th></th>\n",
       "      <th>cell_type</th>\n",
       "      <th>metadata</th>\n",
       "      <th>source</th>\n",
       "      <th>execution_count</th>\n",
       "      <th>outputs</th>\n",
       "    </tr>\n",
       "  </thead>\n",
       "  <tbody>\n",
       "    <tr>\n",
       "      <td>27</td>\n",
       "      <td>code</td>\n",
       "      <td>{'tags': ['raises-exception', 'flake8-noqa-cel...</td>\n",
       "      <td>[import not_a_valid_module]</td>\n",
       "      <td>11.0</td>\n",
       "      <td>[{'ename': 'ModuleNotFoundError', 'evalue': 'N...</td>\n",
       "    </tr>\n",
       "    <tr>\n",
       "      <td>28</td>\n",
       "      <td>code</td>\n",
       "      <td>{'tags': ['flake8-noqa-cell-E402-F401', 'flake...</td>\n",
       "      <td>[for i in range(2):\\n,     print(i)]</td>\n",
       "      <td>12.0</td>\n",
       "      <td>[{'name': 'stdout', 'output_type': 'stream', '...</td>\n",
       "    </tr>\n",
       "    <tr>\n",
       "      <td>29</td>\n",
       "      <td>code</td>\n",
       "      <td>{}</td>\n",
       "      <td>[%%python\\n, print(\"foo\")]</td>\n",
       "      <td>14.0</td>\n",
       "      <td>[{'name': 'stdout', 'output_type': 'stream', '...</td>\n",
       "    </tr>\n",
       "    <tr>\n",
       "      <td>30</td>\n",
       "      <td>code</td>\n",
       "      <td>{'tags': ['flake8-noqa']}</td>\n",
       "      <td>[%ls\\n, import __hello__]</td>\n",
       "      <td>17.0</td>\n",
       "      <td>[{'name': 'stdout', 'output_type': 'stream', '...</td>\n",
       "    </tr>\n",
       "    <tr>\n",
       "      <td>31</td>\n",
       "      <td>code</td>\n",
       "      <td>{}</td>\n",
       "      <td>[]</td>\n",
       "      <td>NaN</td>\n",
       "      <td>[]</td>\n",
       "    </tr>\n",
       "  </tbody>\n",
       "</table>\n",
       "</div>"
      ],
      "text/plain": [
       "   cell_type                                           metadata  \\\n",
       "27      code  {'tags': ['raises-exception', 'flake8-noqa-cel...   \n",
       "28      code  {'tags': ['flake8-noqa-cell-E402-F401', 'flake...   \n",
       "29      code                                                 {}   \n",
       "30      code                          {'tags': ['flake8-noqa']}   \n",
       "31      code                                                 {}   \n",
       "\n",
       "                                  source  execution_count  \\\n",
       "27           [import not_a_valid_module]             11.0   \n",
       "28  [for i in range(2):\\n,     print(i)]             12.0   \n",
       "29            [%%python\\n, print(\"foo\")]             14.0   \n",
       "30             [%ls\\n, import __hello__]             17.0   \n",
       "31                                    []              NaN   \n",
       "\n",
       "                                              outputs  \n",
       "27  [{'ename': 'ModuleNotFoundError', 'evalue': 'N...  \n",
       "28  [{'name': 'stdout', 'output_type': 'stream', '...  \n",
       "29  [{'name': 'stdout', 'output_type': 'stream', '...  \n",
       "30  [{'name': 'stdout', 'output_type': 'stream', '...  \n",
       "31                                                 []  "
      ]
     },
     "execution_count": 2,
     "metadata": {},
     "output_type": "execute_result"
    }
   ],
   "source": [
    "with open(\"1_Using-Jupyter-Lab.ipynb\") as test_notebook_file:\n",
    "    test_notebook = json.load(test_notebook_file)[\"cells\"]\n",
    "pd.DataFrame(test_notebook).tail()"
   ]
  },
  {
   "cell_type": "code",
   "execution_count": 3,
   "metadata": {},
   "outputs": [
    {
     "data": {
      "text/html": [
       "<div>\n",
       "<style scoped>\n",
       "    .dataframe tbody tr th:only-of-type {\n",
       "        vertical-align: middle;\n",
       "    }\n",
       "\n",
       "    .dataframe tbody tr th {\n",
       "        vertical-align: top;\n",
       "    }\n",
       "\n",
       "    .dataframe thead th {\n",
       "        text-align: right;\n",
       "    }\n",
       "</style>\n",
       "<table border=\"1\" class=\"dataframe\">\n",
       "  <thead>\n",
       "    <tr style=\"text-align: right;\">\n",
       "      <th></th>\n",
       "      <th>cell_type</th>\n",
       "      <th>execution_count</th>\n",
       "      <th>metadata</th>\n",
       "      <th>outputs</th>\n",
       "      <th>source</th>\n",
       "    </tr>\n",
       "  </thead>\n",
       "  <tbody>\n",
       "    <tr>\n",
       "      <td>0</td>\n",
       "      <td>code</td>\n",
       "      <td>9</td>\n",
       "      <td>{'tags': ['flake8-noqa']}</td>\n",
       "      <td>[{'data': {'text/plain': ['\\x1b[1;31mInit sign...</td>\n",
       "      <td>[map?\\n]</td>\n",
       "    </tr>\n",
       "    <tr>\n",
       "      <td>1</td>\n",
       "      <td>code</td>\n",
       "      <td>10</td>\n",
       "      <td>{'tags': ['flake8-noqa']}</td>\n",
       "      <td>[{'data': {'text/plain': ['\\x1b[1;31mInit sign...</td>\n",
       "      <td>[map?]</td>\n",
       "    </tr>\n",
       "    <tr>\n",
       "      <td>2</td>\n",
       "      <td>code</td>\n",
       "      <td>11</td>\n",
       "      <td>{'tags': ['raises-exception', 'flake8-noqa-cel...</td>\n",
       "      <td>[{'ename': 'ModuleNotFoundError', 'evalue': 'N...</td>\n",
       "      <td>[import not_a_valid_module]</td>\n",
       "    </tr>\n",
       "    <tr>\n",
       "      <td>3</td>\n",
       "      <td>code</td>\n",
       "      <td>12</td>\n",
       "      <td>{'tags': ['flake8-noqa-cell-E402-F401', 'flake...</td>\n",
       "      <td>[{'name': 'stdout', 'output_type': 'stream', '...</td>\n",
       "      <td>[for i in range(2):\\n,     print(i)]</td>\n",
       "    </tr>\n",
       "    <tr>\n",
       "      <td>4</td>\n",
       "      <td>code</td>\n",
       "      <td>17</td>\n",
       "      <td>{'tags': ['flake8-noqa']}</td>\n",
       "      <td>[{'name': 'stdout', 'output_type': 'stream', '...</td>\n",
       "      <td>[import __hello__]</td>\n",
       "    </tr>\n",
       "  </tbody>\n",
       "</table>\n",
       "</div>"
      ],
      "text/plain": [
       "  cell_type  execution_count  \\\n",
       "0      code                9   \n",
       "1      code               10   \n",
       "2      code               11   \n",
       "3      code               12   \n",
       "4      code               17   \n",
       "\n",
       "                                            metadata  \\\n",
       "0                          {'tags': ['flake8-noqa']}   \n",
       "1                          {'tags': ['flake8-noqa']}   \n",
       "2  {'tags': ['raises-exception', 'flake8-noqa-cel...   \n",
       "3  {'tags': ['flake8-noqa-cell-E402-F401', 'flake...   \n",
       "4                          {'tags': ['flake8-noqa']}   \n",
       "\n",
       "                                             outputs  \\\n",
       "0  [{'data': {'text/plain': ['\\x1b[1;31mInit sign...   \n",
       "1  [{'data': {'text/plain': ['\\x1b[1;31mInit sign...   \n",
       "2  [{'ename': 'ModuleNotFoundError', 'evalue': 'N...   \n",
       "3  [{'name': 'stdout', 'output_type': 'stream', '...   \n",
       "4  [{'name': 'stdout', 'output_type': 'stream', '...   \n",
       "\n",
       "                                 source  \n",
       "0                              [map?\\n]  \n",
       "1                                [map?]  \n",
       "2           [import not_a_valid_module]  \n",
       "3  [for i in range(2):\\n,     print(i)]  \n",
       "4                    [import __hello__]  "
      ]
     },
     "execution_count": 3,
     "metadata": {},
     "output_type": "execute_result"
    }
   ],
   "source": [
    "def is_cell_magic(source_line):\n",
    "    return source_line.startswith(\"%%\")\n",
    "\n",
    "for index, cell in list(enumerate(test_notebook))[::-1]:\n",
    "    if cell[\"cell_type\"] != \"code\":\n",
    "        test_notebook.pop(index)\n",
    "    elif not cell[\"source\"]:\n",
    "        test_notebook.pop(index)\n",
    "    elif any(map(is_cell_magic, cell[\"source\"])):\n",
    "        test_notebook.pop(index)\n",
    "    else:\n",
    "        for source_line_index, source_line in list(enumerate(cell[\"source\"]))[::-1]:\n",
    "            if source_line.startswith((\"%\", \"?\", \"!\")):\n",
    "                cell[\"source\"].pop(source_line_index)\n",
    "        if not cell[\"source\"]:\n",
    "            test_notebook.pop(index)\n",
    "            \n",
    "\n",
    "pd.DataFrame(test_notebook)"
   ]
  },
  {
   "cell_type": "markdown",
   "metadata": {},
   "source": [
    "## Input Notebook"
   ]
  },
  {
   "cell_type": "code",
   "execution_count": 28,
   "metadata": {},
   "outputs": [
    {
     "data": {
      "text/html": [
       "<div>\n",
       "<style scoped>\n",
       "    .dataframe tbody tr th:only-of-type {\n",
       "        vertical-align: middle;\n",
       "    }\n",
       "\n",
       "    .dataframe tbody tr th {\n",
       "        vertical-align: top;\n",
       "    }\n",
       "\n",
       "    .dataframe thead th {\n",
       "        text-align: right;\n",
       "    }\n",
       "</style>\n",
       "<table border=\"1\" class=\"dataframe\">\n",
       "  <thead>\n",
       "    <tr style=\"text-align: right;\">\n",
       "      <th></th>\n",
       "      <th>cell_type</th>\n",
       "      <th>execution_count</th>\n",
       "      <th>metadata</th>\n",
       "      <th>outputs</th>\n",
       "      <th>source</th>\n",
       "    </tr>\n",
       "  </thead>\n",
       "  <tbody>\n",
       "    <tr>\n",
       "      <td>0</td>\n",
       "      <td>code</td>\n",
       "      <td>1</td>\n",
       "      <td>{'tags': ['nbval-ignore-output']}</td>\n",
       "      <td>[{'data': {'application/json': {'cell': {'!': ...</td>\n",
       "      <td>[get_ipython().run_line_magic('lsmagic', '')\\n]</td>\n",
       "    </tr>\n",
       "    <tr>\n",
       "      <td>1</td>\n",
       "      <td>code</td>\n",
       "      <td>2</td>\n",
       "      <td>{'tags': ['nbval-ignore-output', 'flake8-noqa-...</td>\n",
       "      <td>[{'name': 'stdout', 'output_type': 'stream', '...</td>\n",
       "      <td>[get_ipython().run_cell_magic('bash', '', '')\\...</td>\n",
       "    </tr>\n",
       "    <tr>\n",
       "      <td>2</td>\n",
       "      <td>code</td>\n",
       "      <td>3</td>\n",
       "      <td>{'tags': ['nbval-ignore-output']}</td>\n",
       "      <td>[{'name': 'stdout', 'output_type': 'stream', '...</td>\n",
       "      <td>[get_ipython().system('ls -la')\\n]</td>\n",
       "    </tr>\n",
       "    <tr>\n",
       "      <td>3</td>\n",
       "      <td>code</td>\n",
       "      <td>4</td>\n",
       "      <td>{'tags': ['nbval-ignore-output', 'flake8-noqa-...</td>\n",
       "      <td>[{'data': {'text/plain': ['\\x1b[1;31mDocstring...</td>\n",
       "      <td>[get_ipython().run_line_magic('pinfo', '%%bash...</td>\n",
       "    </tr>\n",
       "    <tr>\n",
       "      <td>4</td>\n",
       "      <td>code</td>\n",
       "      <td>5</td>\n",
       "      <td>{'tags': ['nbval-ignore-output', 'flake8-noqa-...</td>\n",
       "      <td>[{'data': {'text/plain': ['\\x1b[1;31mDocstring...</td>\n",
       "      <td>[get_ipython().run_line_magic('pinfo', '%%bash...</td>\n",
       "    </tr>\n",
       "    <tr>\n",
       "      <td>5</td>\n",
       "      <td>code</td>\n",
       "      <td>6</td>\n",
       "      <td>{'tags': ['flake8-noqa-cell']}</td>\n",
       "      <td>[{'data': {'text/plain': ['\\x1b[1;31mInit sign...</td>\n",
       "      <td>[get_ipython().run_line_magic('pinfo', 'map')\\n]</td>\n",
       "    </tr>\n",
       "    <tr>\n",
       "      <td>6</td>\n",
       "      <td>code</td>\n",
       "      <td>7</td>\n",
       "      <td>{'tags': ['flake8-noqa-cell']}</td>\n",
       "      <td>[{'data': {'text/plain': ['\\x1b[1;31mInit sign...</td>\n",
       "      <td>[get_ipython().run_line_magic('pinfo', 'map')\\n]</td>\n",
       "    </tr>\n",
       "    <tr>\n",
       "      <td>7</td>\n",
       "      <td>code</td>\n",
       "      <td>8</td>\n",
       "      <td>{'tags': ['raises-exception', 'flake8-noqa-cel...</td>\n",
       "      <td>[{'ename': 'ModuleNotFoundError', 'evalue': 'N...</td>\n",
       "      <td>[import not_a_valid_module\\n]</td>\n",
       "    </tr>\n",
       "    <tr>\n",
       "      <td>8</td>\n",
       "      <td>code</td>\n",
       "      <td>9</td>\n",
       "      <td>{'tags': ['flake8-noqa-cell-E402-F401', 'flake...</td>\n",
       "      <td>[{'name': 'stdout', 'output_type': 'stream', '...</td>\n",
       "      <td>[for i in range(2):\\n, print(i)\\n]</td>\n",
       "    </tr>\n",
       "    <tr>\n",
       "      <td>9</td>\n",
       "      <td>code</td>\n",
       "      <td>10</td>\n",
       "      <td>{}</td>\n",
       "      <td>[{'name': 'stdout', 'output_type': 'stream', '...</td>\n",
       "      <td>[get_ipython().run_cell_magic('python', '', ''...</td>\n",
       "    </tr>\n",
       "    <tr>\n",
       "      <td>10</td>\n",
       "      <td>code</td>\n",
       "      <td>11</td>\n",
       "      <td>{'tags': ['flake8-noqa-cell']}</td>\n",
       "      <td>[{'name': 'stdout', 'output_type': 'stream', '...</td>\n",
       "      <td>[get_ipython().run_line_magic('ls', '')\\n, imp...</td>\n",
       "    </tr>\n",
       "  </tbody>\n",
       "</table>\n",
       "</div>"
      ],
      "text/plain": [
       "   cell_type  execution_count  \\\n",
       "0       code                1   \n",
       "1       code                2   \n",
       "2       code                3   \n",
       "3       code                4   \n",
       "4       code                5   \n",
       "5       code                6   \n",
       "6       code                7   \n",
       "7       code                8   \n",
       "8       code                9   \n",
       "9       code               10   \n",
       "10      code               11   \n",
       "\n",
       "                                             metadata  \\\n",
       "0                   {'tags': ['nbval-ignore-output']}   \n",
       "1   {'tags': ['nbval-ignore-output', 'flake8-noqa-...   \n",
       "2                   {'tags': ['nbval-ignore-output']}   \n",
       "3   {'tags': ['nbval-ignore-output', 'flake8-noqa-...   \n",
       "4   {'tags': ['nbval-ignore-output', 'flake8-noqa-...   \n",
       "5                      {'tags': ['flake8-noqa-cell']}   \n",
       "6                      {'tags': ['flake8-noqa-cell']}   \n",
       "7   {'tags': ['raises-exception', 'flake8-noqa-cel...   \n",
       "8   {'tags': ['flake8-noqa-cell-E402-F401', 'flake...   \n",
       "9                                                  {}   \n",
       "10                     {'tags': ['flake8-noqa-cell']}   \n",
       "\n",
       "                                              outputs  \\\n",
       "0   [{'data': {'application/json': {'cell': {'!': ...   \n",
       "1   [{'name': 'stdout', 'output_type': 'stream', '...   \n",
       "2   [{'name': 'stdout', 'output_type': 'stream', '...   \n",
       "3   [{'data': {'text/plain': ['\\x1b[1;31mDocstring...   \n",
       "4   [{'data': {'text/plain': ['\\x1b[1;31mDocstring...   \n",
       "5   [{'data': {'text/plain': ['\\x1b[1;31mInit sign...   \n",
       "6   [{'data': {'text/plain': ['\\x1b[1;31mInit sign...   \n",
       "7   [{'ename': 'ModuleNotFoundError', 'evalue': 'N...   \n",
       "8   [{'name': 'stdout', 'output_type': 'stream', '...   \n",
       "9   [{'name': 'stdout', 'output_type': 'stream', '...   \n",
       "10  [{'name': 'stdout', 'output_type': 'stream', '...   \n",
       "\n",
       "                                               source  \n",
       "0     [get_ipython().run_line_magic('lsmagic', '')\\n]  \n",
       "1   [get_ipython().run_cell_magic('bash', '', '')\\...  \n",
       "2                  [get_ipython().system('ls -la')\\n]  \n",
       "3   [get_ipython().run_line_magic('pinfo', '%%bash...  \n",
       "4   [get_ipython().run_line_magic('pinfo', '%%bash...  \n",
       "5    [get_ipython().run_line_magic('pinfo', 'map')\\n]  \n",
       "6    [get_ipython().run_line_magic('pinfo', 'map')\\n]  \n",
       "7                       [import not_a_valid_module\\n]  \n",
       "8                  [for i in range(2):\\n, print(i)\\n]  \n",
       "9   [get_ipython().run_cell_magic('python', '', ''...  \n",
       "10  [get_ipython().run_line_magic('ls', '')\\n, imp...  "
      ]
     },
     "execution_count": 28,
     "metadata": {},
     "output_type": "execute_result"
    }
   ],
   "source": [
    "def ignore_cell(notebook_cell):\n",
    "    if not notebook_cell[\"source\"]:\n",
    "        return True\n",
    "    elif notebook_cell[\"cell_type\"] != \"code\":\n",
    "        return True\n",
    "\n",
    "    \n",
    "def get_clean_notebook(notebook_path):\n",
    "    with open(notebook_path) as notebook_file:\n",
    "        notebook_cells = json.load(notebook_file)[\"cells\"]        \n",
    "    for index, cell in list(enumerate(notebook_cells))[::-1]:\n",
    "        if ignore_cell(cell):\n",
    "            notebook_cells.pop(index)\n",
    "        else:\n",
    "            cell_source = list(enumerate(cell[\"source\"]))[::-1]\n",
    "            for source_index, source_line in cell_source:\n",
    "                cell[\"source\"][source_index] = ipython2python(source_line)\n",
    "    return notebook_cells\n",
    "    \n",
    "test_notebook = get_clean_notebook(\"1_Using-Jupyter-Lab.ipynb\")\n",
    "pd.DataFrame(test_notebook)"
   ]
  },
  {
   "cell_type": "code",
   "execution_count": 5,
   "metadata": {},
   "outputs": [
    {
     "data": {
      "text/plain": [
       "'1_Using-Jupyter-Lab.ipynb#In[7]'"
      ]
     },
     "execution_count": 5,
     "metadata": {},
     "output_type": "execute_result"
    }
   ],
   "source": [
    "def generate_input_name(notebook_path, input_nr):\n",
    "    return f\"{notebook_path}#In[{input_nr}]\"\n",
    "generate_input_name(\"1_Using-Jupyter-Lab.ipynb\", 7)"
   ]
  },
  {
   "cell_type": "code",
   "execution_count": 6,
   "metadata": {},
   "outputs": [
    {
     "name": "stdout",
     "output_type": "stream",
     "text": [
      "striped_source:\n",
      " get_ipython().run_cell_magic('bash', '', '')ls -la\n",
      "reassembled_source:\n",
      " get_ipython().run_cell_magic('bash', '', '')\n",
      "ls -la\n",
      "\n"
     ]
    }
   ],
   "source": [
    "def strip_newline(souce_line):\n",
    "    return souce_line.rstrip(\"\\n\")\n",
    "def add_newline(souce_line):\n",
    "    return f\"{souce_line}\\n\"\n",
    "striped_source = list(map(strip_newline, test_notebook[1][\"source\"]))\n",
    "print(\"striped_source:\\n\",\"\".join(striped_source))\n",
    "reassembled_source = map(add_newline, striped_source)\n",
    "print(\"reassembled_source:\\n\",\"\".join(reassembled_source))"
   ]
  },
  {
   "cell_type": "code",
   "execution_count": 7,
   "metadata": {},
   "outputs": [
    {
     "data": {
      "text/plain": [
       "['nbval-ignore-output', 'flake8-noqa']"
      ]
     },
     "execution_count": 7,
     "metadata": {},
     "output_type": "execute_result"
    }
   ],
   "source": [
    "test_notebook[1][\"metadata\"].get(\"tags\", None)"
   ]
  },
  {
   "cell_type": "markdown",
   "metadata": {},
   "source": [
    "## Flake8 tags to use\n",
    "\n",
    "### cell tags\n",
    "Apply rules to all lines of the cell\n",
    "\n",
    "pattern: ``flake8-noqa-cell-<rule1>-<rule2>``\n",
    "    \n",
    "example: flake8-noqa-cell-E402-F401\n",
    "\n",
    "#### ignore tag\n",
    "Whole cell will be ignored\n",
    "\n",
    "pattern: ``flake8-noqa-cell``\n",
    "\n",
    "### line tags\n",
    "Apply rules to line of the cell, with line_nr \n",
    "\n",
    "pattern: ``flake8-noqa-line-<line_nr>-<rule1>-<rule2>``\n",
    "    \n",
    "example: flake8-noqa-line-1-E402-F401\n",
    "\n",
    "#### ignore tag\n",
    "Line will be ignored\n",
    "\n",
    "pattern: ``flake8-noqa-line-<line_nr>``\n",
    "\n",
    "example: flake8-noqa-line-1\n",
    "\n",
    "### Regex\n",
    "``^flake8-noqa-(cell-(?P<cell_rules>(\\w+\\d+-?)+)|line-(?P<line_nr>\\d+)-(?P<line_rules>(\\w+\\d+-?)+))$|^(?P<ignore_cell>flake8-noqa-cell)$|^flake8-noqa-line-(?P<ignore_line_nr>\\d+)$``\n",
    "\n",
    "testcase:\n",
    "```\n",
    "flake8-noqa-cell-E402-F401\n",
    "flake8-noqa-cell\n",
    "flake8-noqa-line-1-E402-F401\n",
    "flake8-noqa-line-1\n",
    "flake8-noqa-line-foo-E402-F401\n",
    "```"
   ]
  },
  {
   "cell_type": "code",
   "execution_count": 21,
   "metadata": {},
   "outputs": [
    {
     "data": {
      "text/plain": [
       "{'input_nr': 4, 'flake8_tags': []}"
      ]
     },
     "execution_count": 21,
     "metadata": {},
     "output_type": "execute_result"
    }
   ],
   "source": [
    "def extract_flake8_tags(notebook_cell: Dict):\n",
    "    input_nr = notebook_cell[\"execution_count\"]\n",
    "    flake8_tags = []\n",
    "    for tag in notebook_cell[\"metadata\"].get(\"tags\", []):\n",
    "        if tag.startswith(\"flake8-noqa\"):\n",
    "            flake8_tags.append(tag)\n",
    "    return {\"input_nr\": input_nr, \"flake8_tags\": flake8_tags}\n",
    "extract_flake8_tags(test_notebook[0])"
   ]
  },
  {
   "cell_type": "code",
   "execution_count": 9,
   "metadata": {},
   "outputs": [
    {
     "name": "stdout",
     "output_type": "stream",
     "text": [
      "nbval-ignore-output\n",
      "flake8-noqa\n"
     ]
    },
    {
     "data": {
      "text/plain": [
       "{'input_nr': 5, 'flake8_tags': ['flake8-noqa']}"
      ]
     },
     "execution_count": 9,
     "metadata": {},
     "output_type": "execute_result"
    }
   ],
   "source": [
    "extract_flake8_tags(test_notebook[1])"
   ]
  },
  {
   "cell_type": "code",
   "execution_count": 16,
   "metadata": {},
   "outputs": [
    {
     "name": "stdout",
     "output_type": "stream",
     "text": [
      "matching: \"flake8-noqa-cell-E402-F401\"\n",
      "cell_rules E402-F401\n",
      "line_nr None\n",
      "line_rules None\n",
      "matching: \"flake8-noqa-line-1-E402-F401\"\n",
      "cell_rules None\n",
      "line_nr 1\n",
      "line_rules E402-F401\n"
     ]
    }
   ],
   "source": [
    "flake8_tag_pattern = (r\"^flake8-noqa-(cell-(?P<cell_rules>(\\w+\\d+-?)+)\"\n",
    "                      r\"|line-(?P<line_nr>\\d+)-(?P<line_rules>(\\w+\\d+-?)+))$\"\n",
    "                      r\"|^(?P<ignore_cell>flake8-noqa-cell)$\"\n",
    "                      r\"|^flake8-noqa-line-(?P<ignore_line_nr>\\d+)$\")\n",
    "flake8_tag_regex = re.compile(flake8_tag_pattern)\n",
    "match1 = re.match(flake8_tag_regex, 'flake8-noqa-cell-E402-F401')\n",
    "print('matching: \"flake8-noqa-cell-E402-F401\"')\n",
    "print(\"cell_rules\", match1.group(\"cell_rules\"))\n",
    "print(\"line_nr\", match1.group(\"line_nr\"))\n",
    "print(\"line_rules\", match1.group(\"line_rules\"))\n",
    "match2 = re.match(flake8_tag_regex, 'flake8-noqa-line-1-E402-F401')\n",
    "print('matching: \"flake8-noqa-line-1-E402-F401\"')\n",
    "print(\"cell_rules\", match2.group(\"cell_rules\"))\n",
    "print(\"line_nr\", match2.group(\"line_nr\"))\n",
    "print(\"line_rules\", match2.group(\"line_rules\"))"
   ]
  },
  {
   "cell_type": "markdown",
   "metadata": {},
   "source": [
    "## Tags to rules-dict"
   ]
  },
  {
   "cell_type": "code",
   "execution_count": 18,
   "metadata": {},
   "outputs": [
    {
     "name": "stdout",
     "output_type": "stream",
     "text": [
      "{'cell': ['E402', 'F401']}\n",
      "{'cell': ['noqa']}\n",
      "{'1': ['E402', 'F401']}\n",
      "{'1': ['noqa']}\n",
      "{}\n"
     ]
    },
    {
     "name": "stderr",
     "output_type": "stream",
     "text": [
      "C:\\Anaconda3\\lib\\site-packages\\ipykernel_launcher.py:10: InvalidFlake8TagWarning: flake8-noqa-line/cell-tags should be of form 'flake8-noqa-cell-<rule1>-<rule2>'|'flake8-noqa-cell'/'flake8-noqa-line-<line_nr>-<rule1>-<rule2>'|'flake8-noqa-line-<rule1>', you used: 'flake8-noqa-line-foo-E402-F401'\n",
      "  # Remove the CWD from sys.path while we load stuff.\n"
     ]
    }
   ],
   "source": [
    "import warnings\n",
    "\n",
    "class InvalidFlake8TagWarning(UserWarning):\n",
    "    pass\n",
    "\n",
    "def warn_wrong_tag_pattern(flake8_tag: str):\n",
    "    warnings.warn(\"flake8-noqa-line/cell-tags should be of form \"\n",
    "                  \"'flake8-noqa-cell-<rule1>-<rule2>'|'flake8-noqa-cell'/\"\n",
    "                  \"'flake8-noqa-line-<line_nr>-<rule1>-<rule2>'|'flake8-noqa-line-<rule1>', \"\n",
    "                  f\"you used: '{flake8_tag}'\", InvalidFlake8TagWarning)\n",
    "\n",
    "def flake8_tag_to_rules_dict(flake8_tag_regex: re.Pattern, flake8_tag: str) -> Dict[str, List]:\n",
    "    match = re.match(flake8_tag_regex, flake8_tag)\n",
    "    if match:\n",
    "        if match.group(\"cell_rules\"):\n",
    "            cell_rules = match.group(\"cell_rules\")\n",
    "            cell_rules = cell_rules.split(\"-\")\n",
    "            return {\"cell\": cell_rules}\n",
    "        elif match.group(\"ignore_cell\"):\n",
    "            return {\"cell\": [\"noqa\"]}\n",
    "        elif match.group(\"line_nr\") and match.group(\"line_rules\") :\n",
    "            line_nr = str(match.group(\"line_nr\"))\n",
    "            line_rules = match.group(\"line_rules\")\n",
    "            line_rules = line_rules.split(\"-\")\n",
    "            return {line_nr: line_rules}\n",
    "        elif match.group(\"ignore_line_nr\"):\n",
    "            line_nr = str(match.group(\"ignore_line_nr\"))\n",
    "            return {line_nr: [\"noqa\"]}\n",
    "    warn_wrong_tag_pattern(flake8_tag)\n",
    "    return {}\n",
    "    \n",
    "print(flake8_tag_to_rules_dict(flake8_tag_regex, 'flake8-noqa-cell-E402-F401'))\n",
    "print(flake8_tag_to_rules_dict(flake8_tag_regex, 'flake8-noqa-cell'))\n",
    "print(flake8_tag_to_rules_dict(flake8_tag_regex, 'flake8-noqa-line-1-E402-F401'))\n",
    "print(flake8_tag_to_rules_dict(flake8_tag_regex, 'flake8-noqa-line-1'))\n",
    "print(flake8_tag_to_rules_dict(flake8_tag_regex, 'flake8-noqa-line-foo-E402-F401'))"
   ]
  },
  {
   "cell_type": "markdown",
   "metadata": {},
   "source": [
    "## Total rules dict"
   ]
  },
  {
   "cell_type": "code",
   "execution_count": 34,
   "metadata": {},
   "outputs": [],
   "source": [
    "def update_rules_dict(total_rules_dict: Dict[str, List], new_rules_dict: Dict[str, List]) -> Dict[str, List]:\n",
    "    for key, new_rules in new_rules_dict.items():\n",
    "        old_rules = total_rules_dict.get(key, [])\n",
    "        if 'noqa' in old_rules+new_rules:\n",
    "            total_rules_dict[key] = ['noqa']\n",
    "        else:\n",
    "            total_rules_dict[key] = old_rules + new_rules\n",
    "        \n",
    "\n",
    "def get_flake8_rules_dict(notebook_cell: Dict) -> Tuple[int, Dict]:\n",
    "    flake8_tags = extract_flake8_tags(notebook_cell)\n",
    "    flake8_tag_pattern = (r\"^flake8-noqa-(cell-(?P<cell_rules>(\\w+\\d+-?)+)\"\n",
    "                          r\"|line-(?P<line_nr>\\d+)-(?P<line_rules>(\\w+\\d+-?)+))$\"\n",
    "                          r\"|^(?P<ignore_cell>flake8-noqa-cell)$\"\n",
    "                          r\"|^flake8-noqa-line-(?P<ignore_line_nr>\\d+)$\")\n",
    "    flake8_tag_regex = re.compile(flake8_tag_pattern)\n",
    "    total_rules_dict = {}\n",
    "    for flake8_tag in flake8_tags[\"flake8_tags\"]:\n",
    "        new_rules_dict = flake8_tag_to_rules_dict(flake8_tag_regex, flake8_tag)\n",
    "        update_rules_dict(total_rules_dict, new_rules_dict)\n",
    "    return flake8_tags[\"input_nr\"], total_rules_dict\n",
    "        "
   ]
  },
  {
   "cell_type": "code",
   "execution_count": 35,
   "metadata": {},
   "outputs": [
    {
     "data": {
      "text/plain": [
       "(8, {'cell': ['E402', 'F401']})"
      ]
     },
     "execution_count": 35,
     "metadata": {},
     "output_type": "execute_result"
    }
   ],
   "source": [
    "get_flake8_rules_dict(test_notebook[7])"
   ]
  },
  {
   "cell_type": "code",
   "execution_count": 36,
   "metadata": {},
   "outputs": [
    {
     "data": {
      "text/plain": [
       "(9, {'cell': ['noqa'], '1': ['E402', 'F401', 'W391']})"
      ]
     },
     "execution_count": 36,
     "metadata": {},
     "output_type": "execute_result"
    }
   ],
   "source": [
    "get_flake8_rules_dict(test_notebook[8])"
   ]
  },
  {
   "cell_type": "code",
   "execution_count": 14,
   "metadata": {},
   "outputs": [
    {
     "data": {
      "text/plain": [
       "\"get_ipython().run_cell_magic('bash', '', 'echo help\\\\necho help2')\\n\""
      ]
     },
     "execution_count": 14,
     "metadata": {},
     "output_type": "execute_result"
    }
   ],
   "source": [
    "from nbconvert.filters import ipython2python\n",
    "ipython2python(\"%%bash\\necho help\\necho help2\")"
   ]
  },
  {
   "cell_type": "code",
   "execution_count": 15,
   "metadata": {},
   "outputs": [
    {
     "data": {
      "text/plain": [
       "\"get_ipython().run_cell_magic('bash', '', 'echo help\\\\necho help2')\\n\""
      ]
     },
     "execution_count": 15,
     "metadata": {},
     "output_type": "execute_result"
    }
   ],
   "source": [
    "ipython2python(\"%%bash\\necho help\\necho help2\\n\")"
   ]
  },
  {
   "cell_type": "markdown",
   "metadata": {},
   "source": [
    "``^.+?\\s*(?P<is_flake8_noqa>[#]\\s*noqa\\s*[:](\\s*\\w+\\d+[,]?\\s*)+)$``\n",
    "\n",
    "```python\n",
    "foo  # noqa: E402, Fasd401\n",
    "foo  # noqa : E402, Fasd401 \n",
    "\"test  # noqa: E402, Fasd401\"\n",
    "```"
   ]
  },
  {
   "cell_type": "code",
   "execution_count": null,
   "metadata": {},
   "outputs": [],
   "source": []
  }
 ],
 "metadata": {
  "kernelspec": {
   "display_name": "Python 3",
   "language": "python",
   "name": "python3"
  },
  "language_info": {
   "codemirror_mode": {
    "name": "ipython",
    "version": 3
   },
   "file_extension": ".py",
   "mimetype": "text/x-python",
   "name": "python",
   "nbconvert_exporter": "python",
   "pygments_lexer": "ipython3",
   "version": "3.7.3"
  }
 },
 "nbformat": 4,
 "nbformat_minor": 4
}
